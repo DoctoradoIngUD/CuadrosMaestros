{
 "cells": [
  {
   "cell_type": "markdown",
   "id": "a74ecf98",
   "metadata": {},
   "source": []
  },
  {
   "cell_type": "code",
   "execution_count": 1,
   "id": "f4e6e086-6337-40ac-b810-97b5ef429e90",
   "metadata": {},
   "outputs": [],
   "source": [
    "import pandas as pd\n",
    "from datetime import date"
   ]
  },
  {
   "cell_type": "code",
   "execution_count": 203,
   "id": "83b72a34",
   "metadata": {},
   "outputs": [],
   "source": [
    "ArticulosPreEgresados = pd.read_csv('articulos.csv', sep=\";\")\n",
    "ArticulosEgresados = pd.read_csv('articulos.csv', sep=\";\")\n",
    "DB = pd.read_csv('DB_Egresado_Base_CVLAC.csv', sep=\";\")\n",
    "ArticulosPreEgresados['                 AUTOR'] = ArticulosPreEgresados['                 AUTOR'].str.replace('\\xa0', ' ')\n",
    "ArticulosEgresados['                 AUTOR'] = ArticulosEgresados['                 AUTOR'].str.replace('\\xa0', ' ')\n",
    "DB['Egresado'] = DB['Egresado'].str.replace('\\xa0', ' ')"
   ]
  },
  {
   "cell_type": "code",
   "execution_count": 204,
   "id": "e57c8b5f",
   "metadata": {},
   "outputs": [],
   "source": [
    "for i in range(len(ArticulosPreEgresados)):\n",
    "    for j in range(len(DB)):\n",
    "        # Comparar los autores y los años correspondientes\n",
    "        if ArticulosPreEgresados['                 AUTOR'][i].strip() in DB['Egresado'][j].strip():\n",
    "            if ArticulosPreEgresados['                AÑO'][i] < DB['Año'][j]:\n",
    "                # Eliminar la fila correspondiente\n",
    "                ArticulosPreEgresados.drop(i, inplace=True)\n",
    "                break "
   ]
  },
  {
   "cell_type": "code",
   "execution_count": 205,
   "id": "d0f1420a",
   "metadata": {},
   "outputs": [],
   "source": [
    "for i in range(len(ArticulosEgresados)):\n",
    "    for j in range(len(DB)):\n",
    "        # Comparar los autores y los años correspondientes\n",
    "        if ArticulosEgresados['                 AUTOR'][i].strip() in DB['Egresado'][j].strip():\n",
    "            if ArticulosEgresados['                AÑO'][i] >= DB['Año'][j]:\n",
    "                # Eliminar la fila correspondiente\n",
    "                ArticulosEgresados.drop(i, inplace=True)\n",
    "                break "
   ]
  },
  {
   "cell_type": "code",
   "execution_count": 210,
   "id": "37651d7a",
   "metadata": {},
   "outputs": [],
   "source": [
    "#ArticulosPreEgresados.head(40)\n",
    "ArticulosPreEgresados.value_counts('                 AUTOR').to_excel(\"ProduccionComoEstudiante.xlsx\")\n",
    "#ArticulosEgresados.head(40)\n",
    "ArticulosEgresados.value_counts('                 AUTOR').to_excel(\"ProduccionComoEgresado.xlsx\")\n"
   ]
  },
  {
   "cell_type": "code",
   "execution_count": 233,
   "id": "e46b2da8",
   "metadata": {},
   "outputs": [],
   "source": [
    "LibrosPreEgresados = pd.read_csv('libros.csv', sep=\";\")\n",
    "LibrosEgresados = pd.read_csv('libros.csv', sep=\";\")\n",
    "DB = pd.read_csv('DB_Egresado_Base_CVLAC.csv', sep=\";\")\n",
    "#LibrosPreEgresados['                 AUTOR'] = LibrosPreEgresados['                 AUTOR'].str.replace('\\xa0', ' ')\n",
    "#LibrosEgresados['                 AUTOR'] = LibrosEgresados['                 AUTOR'].str.replace('\\xa0', ' ')\n",
    "DB['Egresado'] = DB['Egresado'].str.replace('\\xa0', ' ')"
   ]
  },
  {
   "cell_type": "code",
   "execution_count": 235,
   "id": "81e8a2ee",
   "metadata": {},
   "outputs": [],
   "source": [
    "for i in range(len(LibrosPreEgresados)):\n",
    "    for j in range(len(DB)):\n",
    "        # Comparar los autores y los años correspondientes\n",
    "        if LibrosPreEgresados['                 AUTOR'][i].strip() in DB['Egresado'][j].strip():\n",
    "            if LibrosPreEgresados['                 FECHA'][i] < DB['Año'][j]:\n",
    "                # Eliminar la fila correspondiente\n",
    "                LibrosPreEgresados.drop(i, inplace=True)\n",
    "                break \n",
    "\n",
    "for i in range(len(LibrosEgresados)):\n",
    "    for j in range(len(DB)):\n",
    "        # Comparar los autores y los años correspondientes\n",
    "        if LibrosEgresados['                 AUTOR'][i].strip() in DB['Egresado'][j].strip():\n",
    "            if LibrosEgresados['                 FECHA'][i] >= DB['Año'][j]:\n",
    "                # Eliminar la fila correspondiente\n",
    "                LibrosEgresados.drop(i, inplace=True)\n",
    "                break \n",
    "\n",
    "#ArticulosPreEgresados.head(40)\n",
    "LibrosPreEgresados.value_counts('                 AUTOR').to_excel(\"LibrosProduccionComoEstudiante.xlsx\")\n",
    "#ArticulosEgresados.head(40)\n",
    "LibrosEgresados.value_counts('                 AUTOR').to_excel(\"LibrosProduccionComoEgresado.xlsx\")                       "
   ]
  },
  {
   "cell_type": "code",
   "execution_count": 244,
   "id": "fe466e9b",
   "metadata": {},
   "outputs": [],
   "source": [
    "CapitulosPreEgresados = pd.read_csv('capitulos.csv', sep=\";\")\n",
    "CapitulosEgresados = pd.read_csv('capitulos.csv', sep=\";\")"
   ]
  },
  {
   "cell_type": "code",
   "execution_count": 245,
   "id": "e1c184c8",
   "metadata": {},
   "outputs": [],
   "source": [
    "for i in range(len(CapitulosPreEgresados)):\n",
    "    for j in range(len(DB)):\n",
    "        # Comparar los autores y los años correspondientes\n",
    "        if CapitulosPreEgresados['                 NOMBRE'][i].strip() in DB['Egresado'][j].strip():\n",
    "            if CapitulosPreEgresados['                 FECHA'][i] < DB['Año'][j]:\n",
    "                # Eliminar la fila correspondiente\n",
    "                CapitulosPreEgresados.drop(i, inplace=True)\n",
    "                break \n",
    "\n",
    "for i in range(len(CapitulosEgresados)):\n",
    "    for j in range(len(DB)):\n",
    "        # Comparar los autores y los años correspondientes\n",
    "        if CapitulosEgresados['                 NOMBRE'][i].strip() in DB['Egresado'][j].strip():\n",
    "            if CapitulosEgresados['                 FECHA'][i] >= DB['Año'][j]:\n",
    "                # Eliminar la fila correspondiente\n",
    "                CapitulosEgresados.drop(i, inplace=True)\n",
    "                break \n",
    "\n",
    "#ArticulosPreEgresados.head(40)\n",
    "CapitulosPreEgresados.value_counts('                 NOMBRE').to_excel(\"CapitulosProduccionComoEstudiante.xlsx\")\n",
    "#ArticulosEgresados.head(40)\n",
    "CapitulosEgresados.value_counts('                 NOMBRE').to_excel(\"CapitulosProduccionComoEgresado.xlsx\") "
   ]
  },
  {
   "cell_type": "code",
   "execution_count": null,
   "metadata": {},
   "outputs": [],
   "source": [
    "for i in range(len(CapitulosPreEgresados)):\n",
    "    for j in range(len(DB)):\n",
    "        # Comparar los autores y los años correspondientes\n",
    "        if CapitulosPreEgresados['                 NOMBRE'][i].strip() in DB['Egresado'][j].strip():\n",
    "            if CapitulosPreEgresados['                 FECHA'][i] < DB['Año'][j]:\n",
    "                # Eliminar la fila correspondiente\n",
    "                CapitulosPreEgresados.drop(i, inplace=True)\n",
    "                break \n",
    "\n",
    "for i in range(len(CapitulosEgresados)):\n",
    "    for j in range(len(DB)):\n",
    "        # Comparar los autores y los años correspondientes\n",
    "        if CapitulosEgresados['                 NOMBRE'][i].strip() in DB['Egresado'][j].strip():\n",
    "            if CapitulosEgresados['                 FECHA'][i] >= DB['Año'][j]:\n",
    "                # Eliminar la fila correspondiente\n",
    "                CapitulosEgresados.drop(i, inplace=True)\n",
    "                break \n",
    "\n",
    "#ArticulosPreEgresados.head(40)\n",
    "CapitulosPreEgresados.value_counts('                 NOMBRE').to_excel(\"CapitulosProduccionComoEstudiante.xlsx\")\n",
    "#ArticulosEgresados.head(40)\n",
    "CapitulosEgresados.value_counts('                 NOMBRE').to_excel(\"CapitulosProduccionComoEgresado.xlsx\") "
   ]
  }
 ],
 "metadata": {
  "kernelspec": {
   "display_name": "Python 3 (ipykernel)",
   "language": "python",
   "name": "python3"
  },
  "language_info": {
   "codemirror_mode": {
    "name": "ipython",
    "version": 3
   },
   "file_extension": ".py",
   "mimetype": "text/x-python",
   "name": "python",
   "nbconvert_exporter": "python",
   "pygments_lexer": "ipython3",
   "version": "3.12.2"
  }
 },
 "nbformat": 4,
 "nbformat_minor": 5
}
