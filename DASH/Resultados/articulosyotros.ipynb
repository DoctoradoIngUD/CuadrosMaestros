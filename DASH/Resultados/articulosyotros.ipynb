{
 "cells": [
  {
   "cell_type": "markdown",
   "id": "a74ecf98",
   "metadata": {},
   "source": []
  },
  {
   "cell_type": "code",
   "execution_count": 2,
   "id": "f4e6e086-6337-40ac-b810-97b5ef429e90",
   "metadata": {},
   "outputs": [],
   "source": [
    "import pandas as pd\n",
    "import matplotlib.pyplot as plt "
   ]
  },
  {
   "cell_type": "code",
   "execution_count": 3,
   "id": "378b1515",
   "metadata": {},
   "outputs": [
    {
     "name": "stdout",
     "output_type": "stream",
     "text": [
      "                 FECHA\n",
      "2020.0    19\n",
      "2012.0    16\n",
      "2016.0    15\n",
      "2019.0    14\n",
      "2017.0    14\n",
      "2013.0     9\n",
      "2018.0     9\n",
      "2014.0     9\n",
      "2015.0     9\n",
      "2022.0     6\n",
      "2021.0     5\n",
      "Name: count, dtype: int64\n"
     ]
    }
   ],
   "source": [
    "libros = pd.read_csv('libros.csv', sep=\";\")\n",
    "libros=libros.drop(['COD_RH','                 AUTOR','                 NUM_PAG','                 LUGAR','                  EDITORIAL','                 ISBN','Unnamed: 8'], axis=1)\n",
    "libros.drop(libros[(libros['                 FECHA'] < 2012)].index, inplace=True)\n",
    "libros.sort_values(\"                 TITULO\", inplace = True)\n",
    "dataLibros= libros[\"                 TITULO\"].duplicated(keep = False)\n",
    "libros=libros[~dataLibros]\n",
    "libros = libros['                 FECHA'].value_counts()\n",
    "libros.to_csv('año_libro.csv')\n",
    "print(libros)"
   ]
  },
  {
   "cell_type": "code",
   "execution_count": 4,
   "id": "0a68d60d",
   "metadata": {},
   "outputs": [
    {
     "name": "stdout",
     "output_type": "stream",
     "text": [
      "                AÑO\n",
      "2020    317\n",
      "2018    208\n",
      "2017    191\n",
      "2015    174\n",
      "2016    171\n",
      "2014    148\n",
      "2019    144\n",
      "2021    143\n",
      "2013    135\n",
      "2012    110\n",
      "2022     92\n",
      "2023     51\n",
      "Name: count, dtype: int64\n"
     ]
    }
   ],
   "source": [
    "articulos = pd.read_csv('articulos.csv', sep=\";\")\n",
    "articulos=articulos.drop(['COD_RH','                 AUTOR','                LUGAR','                EDITORIAL','Unnamed: 8'], axis=1)\n",
    "articulos.drop(articulos[(articulos['                AÑO'] < 2012)].index, inplace=True)\n",
    "articulos.sort_values(\"                TITULO\", inplace = True)\n",
    "dataArticulos= articulos[\"                TITULO\"].duplicated(keep = False)\n",
    "articulos=articulos[~dataArticulos]\n",
    "articulos = articulos['                AÑO'].value_counts()\n",
    "print(articulos)\n",
    "articulos.to_csv('año_articulo.csv')"
   ]
  },
  {
   "cell_type": "code",
   "execution_count": 11,
   "id": "80c76894",
   "metadata": {},
   "outputs": [
    {
     "name": "stdout",
     "output_type": "stream",
     "text": [
      "                FECHA\n",
      "2018    35\n",
      "2020    18\n",
      "2019    17\n",
      "2012    12\n",
      "2022    12\n",
      "2013    10\n",
      "2016     9\n",
      "2017     8\n",
      "2014     7\n",
      "2021     7\n",
      "2015     7\n",
      "2023     1\n",
      "Name: count, dtype: int64\n"
     ]
    }
   ],
   "source": [
    "capitulos = pd.read_csv('capitulos.csv', sep=\";\")\n",
    "capitulos=capitulos.drop(['COD_RH','                 NOMBRE','                LUGAR','                ISBN','                PAGINAS '], axis=1)\n",
    "capitulos.drop(capitulos[(capitulos['                FECHA'] < 2012)].index, inplace=True)\n",
    "capitulos.sort_values(\"                TITULO\", inplace = True)\n",
    "dataCapitulo= capitulos[\"                TITULO\"].duplicated(keep = False)\n",
    "capitulos=capitulos[~dataCapitulo]\n",
    "capitulos = capitulos['                FECHA'].value_counts()\n",
    "print(capitulos)\n",
    "capitulos.to_csv('año_capitulo.csv')"
   ]
  },
  {
   "cell_type": "code",
   "execution_count": 16,
   "id": "00e0d791",
   "metadata": {},
   "outputs": [
    {
     "name": "stdout",
     "output_type": "stream",
     "text": [
      "                FECHA\n",
      "2020    46\n",
      "2012    34\n",
      "2017    26\n",
      "2018    25\n",
      "2015    22\n",
      "2019    19\n",
      "2016    17\n",
      "2014    14\n",
      "2013     6\n",
      "2022     2\n",
      "2023     1\n",
      "2021     1\n",
      "Name: count, dtype: int64\n"
     ]
    }
   ],
   "source": [
    "software = pd.read_csv('software.csv', sep=\";\")\n",
    "software=software.drop(['COD_RH','                 AUTOR','                LUGAR','                 REGISTRO ','                 NOMBRE_COMERCIAL','                PLATAFORMA','                 AMBIENTE'], axis=1)\n",
    "software.drop(software[(software['                FECHA'] < 2012)].index, inplace=True)\n",
    "software.sort_values(\"                 NOMBRE_SOFT\", inplace = True)\n",
    "dataSoftware= software[\"                 NOMBRE_SOFT\"].duplicated(keep = False)\n",
    "software=software[~dataSoftware]\n",
    "software = software['                FECHA'].value_counts()\n",
    "software.to_csv('año_software.csv')\n",
    "print(software)"
   ]
  },
  {
   "cell_type": "code",
   "execution_count": 18,
   "id": "2f38a68b",
   "metadata": {},
   "outputs": [
    {
     "data": {
      "text/plain": [
       "                FECHA\n",
       "2012    84\n",
       "2013    81\n",
       "2016    77\n",
       "2018    72\n",
       "2015    70\n",
       "Name: count, dtype: int64"
      ]
     },
     "execution_count": 18,
     "metadata": {},
     "output_type": "execute_result"
    }
   ],
   "source": [
    "eventos = pd.read_csv('eventos.csv', sep=\";\") \n",
    "eventos=eventos.drop(['COD_RH','                 PARTICIPANTE'], axis=1)\n",
    "eventos.drop(eventos[(eventos['                FECHA'] == \",\")].index, inplace=True)\n",
    "eventos.drop(eventos[(eventos['                FECHA'] < '2012')].index, inplace=True)\n",
    "eventos.sort_values(\"                 EVENTO\", inplace = True)\n",
    "dataEventos= eventos[\"                 EVENTO\"].duplicated(keep = False)\n",
    "eventos=eventos[~dataEventos]\n",
    "eventos = eventos['                FECHA'].value_counts()\n",
    "eventos.to_csv('año_eventos.csv')\n",
    "eventos.head()"
   ]
  },
  {
   "cell_type": "code",
   "execution_count": 19,
   "id": "9d865c72",
   "metadata": {},
   "outputs": [],
   "source": [
    "import re\n",
    "proyectos = pd.read_csv('proyectos.csv', sep=\";\") \n",
    "proyectos=proyectos.drop(['COD_RH','                 NOMBRE','Unnamed: 6'], axis=1)\n",
    "proyectos['                FECHAI'] = proyectos['                FECHAI'].astype(str)"
   ]
  },
  {
   "cell_type": "code",
   "execution_count": 20,
   "id": "00d2594e",
   "metadata": {},
   "outputs": [],
   "source": [
    "def extraer_anio(cadena):\n",
    "    anios = re.findall(r'\\b\\d{4}\\b', cadena)\n",
    "    if anios:\n",
    "        return int(anios[0])\n",
    "    return None"
   ]
  },
  {
   "cell_type": "code",
   "execution_count": 21,
   "id": "bd19eba2",
   "metadata": {},
   "outputs": [],
   "source": [
    "proyectos['                FECHAI'] = proyectos['                FECHAI'].apply(extraer_anio)"
   ]
  },
  {
   "cell_type": "code",
   "execution_count": 22,
   "id": "e7194e6d",
   "metadata": {},
   "outputs": [
    {
     "data": {
      "text/plain": [
       "                FECHAI\n",
       "2015    5\n",
       "2012    4\n",
       "2019    4\n",
       "2016    4\n",
       "2021    2\n",
       "Name: count, dtype: int64"
      ]
     },
     "execution_count": 22,
     "metadata": {},
     "output_type": "execute_result"
    }
   ],
   "source": [
    "proyectos.drop(proyectos[(proyectos['                FECHAI'] < 2012)].index, inplace=True)\n",
    "proyectos.sort_values(\"                 TITULO\", inplace = True)\n",
    "dataProyectos= proyectos[\"                 TITULO\"].duplicated(keep = False)\n",
    "proyectos=proyectos[~dataProyectos]\n",
    "proyectos = proyectos['                FECHAI'].value_counts()\n",
    "proyectos.to_csv('año_proyecto.csv')\n",
    "proyectos.head()"
   ]
  }
 ],
 "metadata": {
  "kernelspec": {
   "display_name": "Python 3 (ipykernel)",
   "language": "python",
   "name": "python3"
  },
  "language_info": {
   "codemirror_mode": {
    "name": "ipython",
    "version": 3
   },
   "file_extension": ".py",
   "mimetype": "text/x-python",
   "name": "python",
   "nbconvert_exporter": "python",
   "pygments_lexer": "ipython3",
   "version": "3.11.6"
  }
 },
 "nbformat": 4,
 "nbformat_minor": 5
}
